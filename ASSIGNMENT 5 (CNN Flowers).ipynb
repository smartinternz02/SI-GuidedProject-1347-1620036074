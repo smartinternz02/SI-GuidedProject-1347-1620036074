{
 "cells": [
  {
   "cell_type": "code",
   "execution_count": 1,
   "metadata": {},
   "outputs": [],
   "source": [
    "from tensorflow.keras.models import Sequential\n",
    "from tensorflow.keras.layers import Dense\n",
    "from tensorflow.keras.layers import Convolution2D\n",
    "from tensorflow.keras.layers import MaxPooling2D\n",
    "from tensorflow.keras.layers import Flatten"
   ]
  },
  {
   "cell_type": "code",
   "execution_count": 2,
   "metadata": {},
   "outputs": [
    {
     "name": "stderr",
     "output_type": "stream",
     "text": [
      "Using TensorFlow backend.\n"
     ]
    }
   ],
   "source": [
    "from keras.preprocessing.image import ImageDataGenerator\n",
    "train_datagen=ImageDataGenerator(rescale=1./255,shear_range=0.2,zoom_range=0.2,horizontal_flip=True)\n",
    "test_datagen=ImageDataGenerator(rescale=1./255)"
   ]
  },
  {
   "cell_type": "code",
   "execution_count": 3,
   "metadata": {},
   "outputs": [
    {
     "name": "stdout",
     "output_type": "stream",
     "text": [
      "Found 1677 images belonging to 5 classes.\n",
      "Found 750 images belonging to 5 classes.\n"
     ]
    }
   ],
   "source": [
    "x_train=train_datagen.flow_from_directory(r\"C:\\externship\\flowers\\flowers\\trainset\",target_size = (64,64) , batch_size = 32 , class_mode = \"categorical\")\n",
    "x_test=test_datagen.flow_from_directory(r\"C:\\externship\\flowers\\flowers\\testset\",target_size = (64,64) , batch_size = 32 , class_mode = \"categorical\")"
   ]
  },
  {
   "cell_type": "code",
   "execution_count": 4,
   "metadata": {},
   "outputs": [],
   "source": [
    "model=Sequential()"
   ]
  },
  {
   "cell_type": "code",
   "execution_count": 5,
   "metadata": {},
   "outputs": [
    {
     "name": "stdout",
     "output_type": "stream",
     "text": [
      "WARNING:tensorflow:From C:\\Users\\Badrinath\\Anaconda3\\lib\\site-packages\\tensorflow\\python\\ops\\init_ops.py:1251: calling VarianceScaling.__init__ (from tensorflow.python.ops.init_ops) with dtype is deprecated and will be removed in a future version.\n",
      "Instructions for updating:\n",
      "Call initializer instance with the dtype argument instead of passing it to the constructor\n"
     ]
    }
   ],
   "source": [
    "model.add(Convolution2D(32,(3,3),input_shape=(64,64,3),activation=\"relu\"))"
   ]
  },
  {
   "cell_type": "code",
   "execution_count": 6,
   "metadata": {},
   "outputs": [],
   "source": [
    "model.add(MaxPooling2D(2,2))"
   ]
  },
  {
   "cell_type": "code",
   "execution_count": 7,
   "metadata": {},
   "outputs": [],
   "source": [
    "model.add(Flatten())"
   ]
  },
  {
   "cell_type": "code",
   "execution_count": 8,
   "metadata": {},
   "outputs": [
    {
     "name": "stdout",
     "output_type": "stream",
     "text": [
      "WARNING:tensorflow:From C:\\Users\\Badrinath\\Anaconda3\\lib\\site-packages\\tensorflow\\python\\keras\\initializers.py:119: calling RandomUniform.__init__ (from tensorflow.python.ops.init_ops) with dtype is deprecated and will be removed in a future version.\n",
      "Instructions for updating:\n",
      "Call initializer instance with the dtype argument instead of passing it to the constructor\n"
     ]
    }
   ],
   "source": [
    "model.add(Dense(units=512,activation=\"relu\",kernel_initializer=\"random_uniform\"))"
   ]
  },
  {
   "cell_type": "code",
   "execution_count": 9,
   "metadata": {},
   "outputs": [],
   "source": [
    "model.add(Dense(units=5,activation=\"softmax\",kernel_initializer=\"random_uniform\"))"
   ]
  },
  {
   "cell_type": "code",
   "execution_count": 10,
   "metadata": {},
   "outputs": [],
   "source": [
    "model.compile(\"sgd\",loss=\"categorical_crossentropy\",metrics=[\"accuracy\"])"
   ]
  },
  {
   "cell_type": "code",
   "execution_count": 11,
   "metadata": {},
   "outputs": [
    {
     "name": "stdout",
     "output_type": "stream",
     "text": [
      "Epoch 1/200\n",
      "45/45 [==============================] - 10s 212ms/step - loss: 1.5292 - acc: 0.3208 - val_loss: 1.5113 - val_acc: 0.3172\n",
      "Epoch 2/200\n",
      "45/45 [==============================] - 8s 172ms/step - loss: 1.4209 - acc: 0.3609 - val_loss: 1.3954 - val_acc: 0.3906\n",
      "Epoch 3/200\n",
      "45/45 [==============================] - 8s 171ms/step - loss: 1.3231 - acc: 0.4103 - val_loss: 1.3391 - val_acc: 0.4375\n",
      "Epoch 4/200\n",
      "45/45 [==============================] - 8s 177ms/step - loss: 1.2783 - acc: 0.4326 - val_loss: 1.3049 - val_acc: 0.4563\n",
      "Epoch 5/200\n",
      "45/45 [==============================] - 7s 165ms/step - loss: 1.2353 - acc: 0.4483 - val_loss: 1.2983 - val_acc: 0.4516\n",
      "Epoch 6/200\n",
      "45/45 [==============================] - 7s 166ms/step - loss: 1.2262 - acc: 0.4779 - val_loss: 1.1913 - val_acc: 0.4953\n",
      "Epoch 7/200\n",
      "45/45 [==============================] - 7s 166ms/step - loss: 1.1808 - acc: 0.4868 - val_loss: 1.2399 - val_acc: 0.4703\n",
      "Epoch 8/200\n",
      "45/45 [==============================] - 8s 188ms/step - loss: 1.1592 - acc: 0.4996 - val_loss: 1.1911 - val_acc: 0.4953\n",
      "Epoch 9/200\n",
      "45/45 [==============================] - 8s 177ms/step - loss: 1.1274 - acc: 0.5186 - val_loss: 1.2032 - val_acc: 0.4859\n",
      "Epoch 10/200\n",
      "45/45 [==============================] - 8s 174ms/step - loss: 1.1335 - acc: 0.5306 - val_loss: 1.1966 - val_acc: 0.4734\n",
      "Epoch 11/200\n",
      "45/45 [==============================] - 8s 175ms/step - loss: 1.0988 - acc: 0.5364 - val_loss: 1.2156 - val_acc: 0.4906\n",
      "Epoch 12/200\n",
      "45/45 [==============================] - 8s 178ms/step - loss: 1.1008 - acc: 0.5489 - val_loss: 1.1655 - val_acc: 0.5156\n",
      "Epoch 13/200\n",
      "45/45 [==============================] - 8s 168ms/step - loss: 1.0698 - acc: 0.5576 - val_loss: 1.1945 - val_acc: 0.5094\n",
      "Epoch 14/200\n",
      "45/45 [==============================] - 8s 172ms/step - loss: 1.0838 - acc: 0.5637 - val_loss: 1.1977 - val_acc: 0.5125\n",
      "Epoch 15/200\n",
      "45/45 [==============================] - 8s 180ms/step - loss: 1.0539 - acc: 0.5869 - val_loss: 1.1714 - val_acc: 0.5219\n",
      "Epoch 16/200\n",
      "45/45 [==============================] - 8s 170ms/step - loss: 0.9926 - acc: 0.5982 - val_loss: 1.1396 - val_acc: 0.5484\n",
      "Epoch 17/200\n",
      "45/45 [==============================] - 8s 176ms/step - loss: 1.0596 - acc: 0.5757 - val_loss: 1.1621 - val_acc: 0.5250\n",
      "Epoch 18/200\n",
      "45/45 [==============================] - 7s 166ms/step - loss: 1.0281 - acc: 0.5993 - val_loss: 1.1544 - val_acc: 0.5047\n",
      "Epoch 19/200\n",
      "45/45 [==============================] - 8s 173ms/step - loss: 0.9901 - acc: 0.6052 - val_loss: 1.1757 - val_acc: 0.5141\n",
      "Epoch 20/200\n",
      "45/45 [==============================] - 7s 165ms/step - loss: 1.0268 - acc: 0.5947 - val_loss: 1.1227 - val_acc: 0.5625\n",
      "Epoch 21/200\n",
      "45/45 [==============================] - 8s 179ms/step - loss: 0.9893 - acc: 0.6087 - val_loss: 1.1372 - val_acc: 0.5375\n",
      "Epoch 22/200\n",
      "45/45 [==============================] - 8s 177ms/step - loss: 0.9943 - acc: 0.6007 - val_loss: 1.1767 - val_acc: 0.5219\n",
      "Epoch 23/200\n",
      "45/45 [==============================] - 8s 168ms/step - loss: 0.9746 - acc: 0.6248 - val_loss: 1.1225 - val_acc: 0.5547\n",
      "Epoch 24/200\n",
      "45/45 [==============================] - 8s 174ms/step - loss: 0.9500 - acc: 0.6348 - val_loss: 1.1560 - val_acc: 0.5406\n",
      "Epoch 25/200\n",
      "45/45 [==============================] - 8s 177ms/step - loss: 0.9791 - acc: 0.6292 - val_loss: 1.1461 - val_acc: 0.5375\n",
      "Epoch 26/200\n",
      "45/45 [==============================] - 8s 176ms/step - loss: 0.9339 - acc: 0.6235 - val_loss: 1.1569 - val_acc: 0.5500\n",
      "Epoch 27/200\n",
      "45/45 [==============================] - 8s 174ms/step - loss: 0.9642 - acc: 0.6319 - val_loss: 1.1300 - val_acc: 0.5531\n",
      "Epoch 28/200\n",
      "45/45 [==============================] - 8s 184ms/step - loss: 0.8991 - acc: 0.6484 - val_loss: 1.1714 - val_acc: 0.5063\n",
      "Epoch 29/200\n",
      "45/45 [==============================] - 8s 177ms/step - loss: 0.9310 - acc: 0.6481 - val_loss: 1.1193 - val_acc: 0.5766\n",
      "Epoch 30/200\n",
      "45/45 [==============================] - 8s 173ms/step - loss: 0.9514 - acc: 0.6417 - val_loss: 1.1200 - val_acc: 0.5578\n",
      "Epoch 31/200\n",
      "45/45 [==============================] - 8s 182ms/step - loss: 0.8882 - acc: 0.6643 - val_loss: 1.1511 - val_acc: 0.5609\n",
      "Epoch 32/200\n",
      "45/45 [==============================] - 8s 174ms/step - loss: 0.9185 - acc: 0.6418 - val_loss: 1.1303 - val_acc: 0.5781\n",
      "Epoch 33/200\n",
      "45/45 [==============================] - 8s 173ms/step - loss: 0.8907 - acc: 0.6643 - val_loss: 1.1734 - val_acc: 0.5422\n",
      "Epoch 34/200\n",
      "45/45 [==============================] - 8s 171ms/step - loss: 0.8917 - acc: 0.6481 - val_loss: 1.1737 - val_acc: 0.5297\n",
      "Epoch 35/200\n",
      "45/45 [==============================] - 8s 167ms/step - loss: 0.8709 - acc: 0.6664 - val_loss: 1.1106 - val_acc: 0.5719\n",
      "Epoch 36/200\n",
      "45/45 [==============================] - 8s 176ms/step - loss: 0.8471 - acc: 0.6750 - val_loss: 1.1112 - val_acc: 0.5672\n",
      "Epoch 37/200\n",
      "45/45 [==============================] - 8s 170ms/step - loss: 0.8860 - acc: 0.6591 - val_loss: 1.1832 - val_acc: 0.5531\n",
      "Epoch 38/200\n",
      "45/45 [==============================] - 8s 173ms/step - loss: 0.8869 - acc: 0.6632 - val_loss: 1.1255 - val_acc: 0.5594\n",
      "Epoch 39/200\n",
      "45/45 [==============================] - 8s 167ms/step - loss: 0.8402 - acc: 0.6692 - val_loss: 1.1570 - val_acc: 0.5437\n",
      "Epoch 40/200\n",
      "45/45 [==============================] - 7s 165ms/step - loss: 0.8444 - acc: 0.6833 - val_loss: 1.0993 - val_acc: 0.5859\n",
      "Epoch 41/200\n",
      "45/45 [==============================] - 8s 176ms/step - loss: 0.8383 - acc: 0.6854 - val_loss: 1.2348 - val_acc: 0.5266\n",
      "Epoch 42/200\n",
      "45/45 [==============================] - 7s 165ms/step - loss: 0.8287 - acc: 0.6875 - val_loss: 1.1764 - val_acc: 0.5688\n",
      "Epoch 43/200\n",
      "45/45 [==============================] - 8s 171ms/step - loss: 0.8250 - acc: 0.6924 - val_loss: 1.2251 - val_acc: 0.5500\n",
      "Epoch 44/200\n",
      "45/45 [==============================] - 8s 173ms/step - loss: 0.8186 - acc: 0.6919 - val_loss: 1.1077 - val_acc: 0.5875\n",
      "Epoch 45/200\n",
      "45/45 [==============================] - 8s 172ms/step - loss: 0.8161 - acc: 0.6896 - val_loss: 1.1738 - val_acc: 0.5500\n",
      "Epoch 46/200\n",
      "45/45 [==============================] - 8s 176ms/step - loss: 0.8247 - acc: 0.6939 - val_loss: 1.1169 - val_acc: 0.5813\n",
      "Epoch 47/200\n",
      "45/45 [==============================] - 7s 165ms/step - loss: 0.7921 - acc: 0.6995 - val_loss: 1.1336 - val_acc: 0.5828\n",
      "Epoch 48/200\n",
      "45/45 [==============================] - 8s 180ms/step - loss: 0.7799 - acc: 0.6974 - val_loss: 1.0865 - val_acc: 0.6000\n",
      "Epoch 49/200\n",
      "45/45 [==============================] - 8s 177ms/step - loss: 0.7890 - acc: 0.7007 - val_loss: 1.2425 - val_acc: 0.5359\n",
      "Epoch 50/200\n",
      "45/45 [==============================] - 8s 173ms/step - loss: 0.7779 - acc: 0.7140 - val_loss: 1.1755 - val_acc: 0.5531\n",
      "Epoch 51/200\n",
      "45/45 [==============================] - 8s 177ms/step - loss: 0.7609 - acc: 0.7118 - val_loss: 1.1590 - val_acc: 0.5656\n",
      "Epoch 52/200\n",
      "45/45 [==============================] - 8s 168ms/step - loss: 0.7448 - acc: 0.7199 - val_loss: 1.2249 - val_acc: 0.5781\n",
      "Epoch 53/200\n",
      "45/45 [==============================] - 8s 175ms/step - loss: 0.7685 - acc: 0.7108 - val_loss: 1.1158 - val_acc: 0.5844\n",
      "Epoch 54/200\n",
      "45/45 [==============================] - 8s 171ms/step - loss: 0.7540 - acc: 0.7122 - val_loss: 1.1605 - val_acc: 0.5750\n",
      "Epoch 55/200\n",
      "45/45 [==============================] - 8s 178ms/step - loss: 0.7395 - acc: 0.7220 - val_loss: 1.2228 - val_acc: 0.5531\n",
      "Epoch 56/200\n",
      "45/45 [==============================] - 8s 173ms/step - loss: 0.7336 - acc: 0.7271 - val_loss: 1.1550 - val_acc: 0.5625\n",
      "Epoch 57/200\n",
      "45/45 [==============================] - 8s 167ms/step - loss: 0.7286 - acc: 0.7248 - val_loss: 1.1654 - val_acc: 0.5906\n",
      "Epoch 58/200\n",
      "45/45 [==============================] - 8s 168ms/step - loss: 0.7235 - acc: 0.7375 - val_loss: 1.2199 - val_acc: 0.5625\n",
      "Epoch 59/200\n",
      "45/45 [==============================] - 8s 169ms/step - loss: 0.6903 - acc: 0.7438 - val_loss: 1.2989 - val_acc: 0.5250\n",
      "Epoch 60/200\n",
      "45/45 [==============================] - 7s 166ms/step - loss: 0.7498 - acc: 0.7122 - val_loss: 1.1963 - val_acc: 0.5734\n",
      "Epoch 61/200\n",
      "45/45 [==============================] - 8s 182ms/step - loss: 0.6806 - acc: 0.7437 - val_loss: 1.1866 - val_acc: 0.5828\n",
      "Epoch 62/200\n"
     ]
    },
    {
     "name": "stdout",
     "output_type": "stream",
     "text": [
      "45/45 [==============================] - 8s 181ms/step - loss: 0.7192 - acc: 0.7225 - val_loss: 1.2743 - val_acc: 0.5344\n",
      "Epoch 63/200\n",
      "45/45 [==============================] - 8s 177ms/step - loss: 0.6865 - acc: 0.7452 - val_loss: 1.1361 - val_acc: 0.5984\n",
      "Epoch 64/200\n",
      "45/45 [==============================] - 8s 175ms/step - loss: 0.6685 - acc: 0.7500 - val_loss: 1.2141 - val_acc: 0.5625\n",
      "Epoch 65/200\n",
      "45/45 [==============================] - 7s 166ms/step - loss: 0.6716 - acc: 0.7482 - val_loss: 1.1708 - val_acc: 0.5891\n",
      "Epoch 66/200\n",
      "45/45 [==============================] - 8s 173ms/step - loss: 0.6807 - acc: 0.7479 - val_loss: 1.1466 - val_acc: 0.5922\n",
      "Epoch 67/200\n",
      "45/45 [==============================] - 7s 165ms/step - loss: 0.6478 - acc: 0.7597 - val_loss: 1.1462 - val_acc: 0.6000\n",
      "Epoch 68/200\n",
      "45/45 [==============================] - 8s 184ms/step - loss: 0.6610 - acc: 0.7607 - val_loss: 1.2417 - val_acc: 0.5500\n",
      "Epoch 69/200\n",
      "45/45 [==============================] - 8s 173ms/step - loss: 0.6098 - acc: 0.7783 - val_loss: 1.2068 - val_acc: 0.5828\n",
      "Epoch 70/200\n",
      "45/45 [==============================] - 8s 169ms/step - loss: 0.6373 - acc: 0.7675 - val_loss: 1.2018 - val_acc: 0.5625\n",
      "Epoch 71/200\n",
      "45/45 [==============================] - 7s 167ms/step - loss: 0.6244 - acc: 0.7657 - val_loss: 1.2295 - val_acc: 0.5391\n",
      "Epoch 72/200\n",
      "45/45 [==============================] - 8s 170ms/step - loss: 0.6097 - acc: 0.7736 - val_loss: 1.2497 - val_acc: 0.5578\n",
      "Epoch 73/200\n",
      "45/45 [==============================] - 8s 168ms/step - loss: 0.6112 - acc: 0.7579 - val_loss: 1.2319 - val_acc: 0.5703\n",
      "Epoch 74/200\n",
      "45/45 [==============================] - 8s 180ms/step - loss: 0.5921 - acc: 0.7987 - val_loss: 1.3056 - val_acc: 0.5437\n",
      "Epoch 75/200\n",
      "45/45 [==============================] - 7s 164ms/step - loss: 0.6209 - acc: 0.7762 - val_loss: 1.2660 - val_acc: 0.5781\n",
      "Epoch 76/200\n",
      "45/45 [==============================] - 8s 173ms/step - loss: 0.5883 - acc: 0.7783 - val_loss: 1.2173 - val_acc: 0.5656\n",
      "Epoch 77/200\n",
      "45/45 [==============================] - 8s 174ms/step - loss: 0.5583 - acc: 0.8008 - val_loss: 1.2159 - val_acc: 0.6016\n",
      "Epoch 78/200\n",
      "45/45 [==============================] - 8s 171ms/step - loss: 0.5767 - acc: 0.7917 - val_loss: 1.3450 - val_acc: 0.5484\n",
      "Epoch 79/200\n",
      "45/45 [==============================] - 8s 171ms/step - loss: 0.5498 - acc: 0.8000 - val_loss: 1.4116 - val_acc: 0.5297\n",
      "Epoch 80/200\n",
      "45/45 [==============================] - 8s 169ms/step - loss: 0.5990 - acc: 0.7778 - val_loss: 1.2378 - val_acc: 0.5828\n",
      "Epoch 81/200\n",
      "45/45 [==============================] - 8s 186ms/step - loss: 0.5362 - acc: 0.7981 - val_loss: 1.3419 - val_acc: 0.5797\n",
      "Epoch 82/200\n",
      "45/45 [==============================] - 8s 177ms/step - loss: 0.5674 - acc: 0.7973 - val_loss: 1.1903 - val_acc: 0.5938\n",
      "Epoch 83/200\n",
      "45/45 [==============================] - 7s 166ms/step - loss: 0.5057 - acc: 0.8076 - val_loss: 1.3564 - val_acc: 0.5422\n",
      "Epoch 84/200\n",
      "45/45 [==============================] - 8s 170ms/step - loss: 0.5529 - acc: 0.8008 - val_loss: 1.3177 - val_acc: 0.5547\n",
      "Epoch 85/200\n",
      "45/45 [==============================] - 8s 168ms/step - loss: 0.5464 - acc: 0.8121 - val_loss: 1.2555 - val_acc: 0.5813\n",
      "Epoch 86/200\n",
      "45/45 [==============================] - 8s 170ms/step - loss: 0.5453 - acc: 0.8114 - val_loss: 1.2477 - val_acc: 0.5797\n",
      "Epoch 87/200\n",
      "45/45 [==============================] - 8s 172ms/step - loss: 0.5237 - acc: 0.8149 - val_loss: 1.2880 - val_acc: 0.5766\n",
      "Epoch 88/200\n",
      "45/45 [==============================] - 8s 185ms/step - loss: 0.5218 - acc: 0.8188 - val_loss: 1.3471 - val_acc: 0.5562\n",
      "Epoch 89/200\n",
      "45/45 [==============================] - 8s 170ms/step - loss: 0.4934 - acc: 0.8238 - val_loss: 1.4112 - val_acc: 0.5469\n",
      "Epoch 90/200\n",
      "45/45 [==============================] - 8s 173ms/step - loss: 0.4941 - acc: 0.8097 - val_loss: 1.2898 - val_acc: 0.5703\n",
      "Epoch 91/200\n",
      "45/45 [==============================] - 8s 188ms/step - loss: 0.4970 - acc: 0.8274 - val_loss: 1.2643 - val_acc: 0.6000\n",
      "Epoch 92/200\n",
      "45/45 [==============================] - 8s 178ms/step - loss: 0.5016 - acc: 0.8292 - val_loss: 1.4401 - val_acc: 0.5594\n",
      "Epoch 93/200\n",
      "45/45 [==============================] - 8s 167ms/step - loss: 0.5047 - acc: 0.8170 - val_loss: 1.3718 - val_acc: 0.5547\n",
      "Epoch 94/200\n",
      "45/45 [==============================] - 8s 177ms/step - loss: 0.4685 - acc: 0.8325 - val_loss: 1.3287 - val_acc: 0.5797\n",
      "Epoch 95/200\n",
      "45/45 [==============================] - 8s 171ms/step - loss: 0.4765 - acc: 0.8346 - val_loss: 1.3061 - val_acc: 0.5891\n",
      "Epoch 96/200\n",
      "45/45 [==============================] - 8s 167ms/step - loss: 0.5067 - acc: 0.8156 - val_loss: 1.2854 - val_acc: 0.6031\n",
      "Epoch 97/200\n",
      "45/45 [==============================] - 8s 177ms/step - loss: 0.4575 - acc: 0.8389 - val_loss: 1.6435 - val_acc: 0.5250\n",
      "Epoch 98/200\n",
      "45/45 [==============================] - 8s 172ms/step - loss: 0.4493 - acc: 0.8417 - val_loss: 1.3503 - val_acc: 0.5594\n",
      "Epoch 99/200\n",
      "45/45 [==============================] - 8s 179ms/step - loss: 0.4414 - acc: 0.8395 - val_loss: 1.3262 - val_acc: 0.5766\n",
      "Epoch 100/200\n",
      "45/45 [==============================] - 8s 184ms/step - loss: 0.4197 - acc: 0.8508 - val_loss: 1.4326 - val_acc: 0.5562\n",
      "Epoch 101/200\n",
      "45/45 [==============================] - 8s 177ms/step - loss: 0.4434 - acc: 0.8381 - val_loss: 1.4710 - val_acc: 0.5859\n",
      "Epoch 102/200\n",
      "45/45 [==============================] - 8s 175ms/step - loss: 0.4227 - acc: 0.8479 - val_loss: 1.3204 - val_acc: 0.6047\n",
      "Epoch 103/200\n",
      "45/45 [==============================] - 8s 170ms/step - loss: 0.4089 - acc: 0.8571 - val_loss: 1.4489 - val_acc: 0.5578\n",
      "Epoch 104/200\n",
      "45/45 [==============================] - 7s 163ms/step - loss: 0.4111 - acc: 0.8481 - val_loss: 1.3775 - val_acc: 0.5828\n",
      "Epoch 105/200\n",
      "45/45 [==============================] - 8s 170ms/step - loss: 0.4188 - acc: 0.8472 - val_loss: 1.3914 - val_acc: 0.5625\n",
      "Epoch 106/200\n",
      "45/45 [==============================] - 7s 165ms/step - loss: 0.3924 - acc: 0.8550 - val_loss: 1.5806 - val_acc: 0.5625\n",
      "Epoch 107/200\n",
      "45/45 [==============================] - 8s 167ms/step - loss: 0.3903 - acc: 0.8681 - val_loss: 1.3716 - val_acc: 0.5906\n",
      "Epoch 108/200\n",
      "45/45 [==============================] - 8s 172ms/step - loss: 0.4152 - acc: 0.8529 - val_loss: 1.4183 - val_acc: 0.5797\n",
      "Epoch 109/200\n",
      "45/45 [==============================] - 8s 182ms/step - loss: 0.3778 - acc: 0.8797 - val_loss: 1.3738 - val_acc: 0.5953\n",
      "Epoch 110/200\n",
      "45/45 [==============================] - 8s 170ms/step - loss: 0.4045 - acc: 0.8578 - val_loss: 1.3477 - val_acc: 0.6031\n",
      "Epoch 111/200\n",
      "45/45 [==============================] - 8s 181ms/step - loss: 0.3469 - acc: 0.8887 - val_loss: 1.3493 - val_acc: 0.6062\n",
      "Epoch 112/200\n",
      "45/45 [==============================] - 9s 189ms/step - loss: 0.3932 - acc: 0.8646 - val_loss: 1.2656 - val_acc: 0.6406\n",
      "Epoch 113/200\n",
      "45/45 [==============================] - 8s 168ms/step - loss: 0.3523 - acc: 0.8860 - val_loss: 1.5261 - val_acc: 0.5344\n",
      "Epoch 114/200\n",
      "45/45 [==============================] - 8s 180ms/step - loss: 0.3500 - acc: 0.8825 - val_loss: 1.4681 - val_acc: 0.5578\n",
      "Epoch 115/200\n",
      "45/45 [==============================] - 8s 173ms/step - loss: 0.3508 - acc: 0.8874 - val_loss: 1.4135 - val_acc: 0.5641\n",
      "Epoch 116/200\n",
      "45/45 [==============================] - 8s 170ms/step - loss: 0.3501 - acc: 0.8825 - val_loss: 1.3830 - val_acc: 0.6016\n",
      "Epoch 117/200\n",
      "45/45 [==============================] - 8s 177ms/step - loss: 0.3660 - acc: 0.8882 - val_loss: 1.4017 - val_acc: 0.6016\n",
      "Epoch 118/200\n",
      "45/45 [==============================] - 8s 167ms/step - loss: 0.3315 - acc: 0.8860 - val_loss: 1.4016 - val_acc: 0.5828\n",
      "Epoch 119/200\n",
      "45/45 [==============================] - 8s 171ms/step - loss: 0.3447 - acc: 0.8818 - val_loss: 1.4287 - val_acc: 0.5844\n",
      "Epoch 120/200\n",
      "45/45 [==============================] - 8s 170ms/step - loss: 0.3271 - acc: 0.8867 - val_loss: 1.5082 - val_acc: 0.5781\n",
      "Epoch 121/200\n",
      "45/45 [==============================] - 8s 179ms/step - loss: 0.3084 - acc: 0.9057 - val_loss: 1.4837 - val_acc: 0.5781\n",
      "Epoch 122/200\n",
      "45/45 [==============================] - 8s 179ms/step - loss: 0.3293 - acc: 0.8861 - val_loss: 1.4917 - val_acc: 0.5719\n",
      "Epoch 123/200\n"
     ]
    },
    {
     "name": "stdout",
     "output_type": "stream",
     "text": [
      "45/45 [==============================] - 8s 175ms/step - loss: 0.3027 - acc: 0.8973 - val_loss: 1.3827 - val_acc: 0.6047\n",
      "Epoch 124/200\n",
      "45/45 [==============================] - 8s 175ms/step - loss: 0.2969 - acc: 0.9057 - val_loss: 1.3993 - val_acc: 0.6031\n",
      "Epoch 125/200\n",
      "45/45 [==============================] - 8s 176ms/step - loss: 0.3046 - acc: 0.8931 - val_loss: 1.5562 - val_acc: 0.5609\n",
      "Epoch 126/200\n",
      "45/45 [==============================] - 8s 171ms/step - loss: 0.2750 - acc: 0.9148 - val_loss: 1.4781 - val_acc: 0.5844\n",
      "Epoch 127/200\n",
      "45/45 [==============================] - 8s 185ms/step - loss: 0.3026 - acc: 0.9035 - val_loss: 1.6609 - val_acc: 0.5437\n",
      "Epoch 128/200\n",
      "45/45 [==============================] - 8s 174ms/step - loss: 0.2838 - acc: 0.9094 - val_loss: 1.5028 - val_acc: 0.5891\n",
      "Epoch 129/200\n",
      "45/45 [==============================] - 8s 182ms/step - loss: 0.2831 - acc: 0.9085 - val_loss: 1.5366 - val_acc: 0.5641\n",
      "Epoch 130/200\n",
      "45/45 [==============================] - 8s 174ms/step - loss: 0.2634 - acc: 0.9229 - val_loss: 1.5512 - val_acc: 0.5750\n",
      "Epoch 131/200\n",
      "45/45 [==============================] - 8s 169ms/step - loss: 0.2637 - acc: 0.9158 - val_loss: 1.4672 - val_acc: 0.5969\n",
      "Epoch 132/200\n",
      "45/45 [==============================] - 8s 173ms/step - loss: 0.2831 - acc: 0.9104 - val_loss: 1.5009 - val_acc: 0.6062\n",
      "Epoch 133/200\n",
      "45/45 [==============================] - 8s 173ms/step - loss: 0.2684 - acc: 0.9097 - val_loss: 1.4456 - val_acc: 0.6031\n",
      "Epoch 134/200\n",
      "45/45 [==============================] - 8s 180ms/step - loss: 0.2571 - acc: 0.9187 - val_loss: 1.5508 - val_acc: 0.5828\n",
      "Epoch 135/200\n",
      "45/45 [==============================] - 8s 177ms/step - loss: 0.2246 - acc: 0.9360 - val_loss: 1.6112 - val_acc: 0.5844\n",
      "Epoch 136/200\n",
      "45/45 [==============================] - 8s 177ms/step - loss: 0.2732 - acc: 0.9148 - val_loss: 1.5226 - val_acc: 0.5750\n",
      "Epoch 137/200\n",
      "45/45 [==============================] - 8s 176ms/step - loss: 0.2720 - acc: 0.9085 - val_loss: 1.5724 - val_acc: 0.5719\n",
      "Epoch 138/200\n",
      "45/45 [==============================] - 8s 169ms/step - loss: 0.2235 - acc: 0.9312 - val_loss: 1.5297 - val_acc: 0.5984\n",
      "Epoch 139/200\n",
      "45/45 [==============================] - 8s 173ms/step - loss: 0.2332 - acc: 0.9317 - val_loss: 1.6226 - val_acc: 0.5625\n",
      "Epoch 140/200\n",
      "45/45 [==============================] - 8s 169ms/step - loss: 0.2290 - acc: 0.9282 - val_loss: 1.5976 - val_acc: 0.5953\n",
      "Epoch 141/200\n",
      "45/45 [==============================] - 8s 183ms/step - loss: 0.2108 - acc: 0.9333 - val_loss: 1.5981 - val_acc: 0.5688\n",
      "Epoch 142/200\n",
      "45/45 [==============================] - 8s 169ms/step - loss: 0.2117 - acc: 0.9429 - val_loss: 1.5929 - val_acc: 0.5797\n",
      "Epoch 143/200\n",
      "45/45 [==============================] - 8s 171ms/step - loss: 0.2159 - acc: 0.9389 - val_loss: 1.6741 - val_acc: 0.5531\n",
      "Epoch 144/200\n",
      "45/45 [==============================] - 8s 171ms/step - loss: 0.2237 - acc: 0.9240 - val_loss: 1.9251 - val_acc: 0.5406\n",
      "Epoch 145/200\n",
      "45/45 [==============================] - 8s 169ms/step - loss: 0.2175 - acc: 0.9409 - val_loss: 1.6641 - val_acc: 0.5609\n",
      "Epoch 146/200\n",
      "45/45 [==============================] - 7s 167ms/step - loss: 0.2232 - acc: 0.9317 - val_loss: 1.7360 - val_acc: 0.5625\n",
      "Epoch 147/200\n",
      "45/45 [==============================] - 8s 178ms/step - loss: 0.2142 - acc: 0.9444 - val_loss: 1.6021 - val_acc: 0.5891\n",
      "Epoch 148/200\n",
      "45/45 [==============================] - 8s 178ms/step - loss: 0.2053 - acc: 0.9346 - val_loss: 1.6812 - val_acc: 0.5922\n",
      "Epoch 149/200\n",
      "45/45 [==============================] - 8s 179ms/step - loss: 0.1999 - acc: 0.9423 - val_loss: 1.5604 - val_acc: 0.6125\n",
      "Epoch 150/200\n",
      "45/45 [==============================] - 8s 177ms/step - loss: 0.2011 - acc: 0.9353 - val_loss: 1.6033 - val_acc: 0.6062\n",
      "Epoch 151/200\n",
      "45/45 [==============================] - 8s 177ms/step - loss: 0.1770 - acc: 0.9507 - val_loss: 1.6439 - val_acc: 0.5766\n",
      "Epoch 152/200\n",
      "45/45 [==============================] - 8s 177ms/step - loss: 0.1962 - acc: 0.9367 - val_loss: 1.6035 - val_acc: 0.5953\n",
      "Epoch 153/200\n",
      "45/45 [==============================] - 8s 170ms/step - loss: 0.1791 - acc: 0.9479 - val_loss: 1.6621 - val_acc: 0.5828\n",
      "Epoch 154/200\n",
      "45/45 [==============================] - 8s 177ms/step - loss: 0.1750 - acc: 0.9479 - val_loss: 1.6730 - val_acc: 0.5797\n",
      "Epoch 155/200\n",
      "45/45 [==============================] - 8s 174ms/step - loss: 0.2006 - acc: 0.9360 - val_loss: 1.6273 - val_acc: 0.5844\n",
      "Epoch 156/200\n",
      "45/45 [==============================] - 8s 176ms/step - loss: 0.1754 - acc: 0.9557 - val_loss: 1.8803 - val_acc: 0.5453\n",
      "Epoch 157/200\n",
      "45/45 [==============================] - 8s 176ms/step - loss: 0.1532 - acc: 0.9618 - val_loss: 1.6761 - val_acc: 0.5859\n",
      "Epoch 158/200\n",
      "45/45 [==============================] - 8s 169ms/step - loss: 0.1661 - acc: 0.9458 - val_loss: 1.7171 - val_acc: 0.5719\n",
      "Epoch 159/200\n",
      "45/45 [==============================] - 8s 168ms/step - loss: 0.1585 - acc: 0.9611 - val_loss: 1.7730 - val_acc: 0.5734\n",
      "Epoch 160/200\n",
      "45/45 [==============================] - 8s 173ms/step - loss: 0.1486 - acc: 0.9620 - val_loss: 1.6876 - val_acc: 0.5703\n",
      "Epoch 161/200\n",
      "45/45 [==============================] - 8s 181ms/step - loss: 0.1477 - acc: 0.9606 - val_loss: 1.6657 - val_acc: 0.5953\n",
      "Epoch 162/200\n",
      "45/45 [==============================] - 8s 176ms/step - loss: 0.1753 - acc: 0.9479 - val_loss: 1.7690 - val_acc: 0.5672\n",
      "Epoch 163/200\n",
      "45/45 [==============================] - 8s 174ms/step - loss: 0.1550 - acc: 0.9571 - val_loss: 1.7454 - val_acc: 0.5703\n",
      "Epoch 164/200\n",
      "45/45 [==============================] - 8s 171ms/step - loss: 0.1254 - acc: 0.9708 - val_loss: 1.7085 - val_acc: 0.5891\n",
      "Epoch 165/200\n",
      "45/45 [==============================] - 8s 182ms/step - loss: 0.1618 - acc: 0.9528 - val_loss: 1.7460 - val_acc: 0.5750\n",
      "Epoch 166/200\n",
      "45/45 [==============================] - 8s 176ms/step - loss: 0.1426 - acc: 0.9592 - val_loss: 1.7834 - val_acc: 0.5719\n",
      "Epoch 167/200\n",
      "45/45 [==============================] - 8s 183ms/step - loss: 0.1315 - acc: 0.9676 - val_loss: 2.1741 - val_acc: 0.4812\n",
      "Epoch 168/200\n",
      "45/45 [==============================] - 8s 181ms/step - loss: 0.1285 - acc: 0.9655 - val_loss: 1.8231 - val_acc: 0.5625\n",
      "Epoch 169/200\n",
      "45/45 [==============================] - 8s 176ms/step - loss: 0.1278 - acc: 0.9697 - val_loss: 1.8072 - val_acc: 0.5750\n",
      "Epoch 170/200\n",
      "45/45 [==============================] - 8s 180ms/step - loss: 0.1826 - acc: 0.9389 - val_loss: 1.8598 - val_acc: 0.5547\n",
      "Epoch 171/200\n",
      "45/45 [==============================] - 8s 180ms/step - loss: 0.1441 - acc: 0.9536 - val_loss: 1.8085 - val_acc: 0.5703\n",
      "Epoch 172/200\n",
      "45/45 [==============================] - 8s 177ms/step - loss: 0.1369 - acc: 0.9627 - val_loss: 1.7342 - val_acc: 0.5844\n",
      "Epoch 173/200\n",
      "45/45 [==============================] - 8s 176ms/step - loss: 0.1519 - acc: 0.9507 - val_loss: 1.7538 - val_acc: 0.5719\n",
      "Epoch 174/200\n",
      "45/45 [==============================] - 8s 187ms/step - loss: 0.1294 - acc: 0.9662 - val_loss: 1.8255 - val_acc: 0.5813\n",
      "Epoch 175/200\n",
      "45/45 [==============================] - 8s 183ms/step - loss: 0.1392 - acc: 0.9683 - val_loss: 1.7996 - val_acc: 0.5734\n",
      "Epoch 176/200\n",
      "45/45 [==============================] - 8s 182ms/step - loss: 0.0923 - acc: 0.9812 - val_loss: 1.7894 - val_acc: 0.5844\n",
      "Epoch 177/200\n",
      "45/45 [==============================] - 8s 174ms/step - loss: 0.1157 - acc: 0.9676 - val_loss: 1.8625 - val_acc: 0.5734\n",
      "Epoch 178/200\n",
      "45/45 [==============================] - 8s 174ms/step - loss: 0.1072 - acc: 0.9697 - val_loss: 1.9009 - val_acc: 0.5828\n",
      "Epoch 179/200\n",
      "45/45 [==============================] - 8s 176ms/step - loss: 0.1327 - acc: 0.9641 - val_loss: 2.4381 - val_acc: 0.5219\n",
      "Epoch 180/200\n",
      "45/45 [==============================] - 9s 194ms/step - loss: 0.1116 - acc: 0.9729 - val_loss: 1.8802 - val_acc: 0.5844\n",
      "Epoch 181/200\n",
      "45/45 [==============================] - 8s 182ms/step - loss: 0.1084 - acc: 0.9708 - val_loss: 1.8610 - val_acc: 0.5766\n",
      "Epoch 182/200\n",
      "45/45 [==============================] - 8s 177ms/step - loss: 0.0994 - acc: 0.9771 - val_loss: 1.8837 - val_acc: 0.5750\n",
      "Epoch 183/200\n",
      "45/45 [==============================] - 8s 172ms/step - loss: 0.0832 - acc: 0.9843 - val_loss: 1.9362 - val_acc: 0.5656\n"
     ]
    },
    {
     "name": "stdout",
     "output_type": "stream",
     "text": [
      "Epoch 184/200\n",
      "45/45 [==============================] - 8s 174ms/step - loss: 0.0957 - acc: 0.9785 - val_loss: 1.8580 - val_acc: 0.5734\n",
      "Epoch 185/200\n",
      "45/45 [==============================] - 8s 173ms/step - loss: 0.0923 - acc: 0.9761 - val_loss: 1.8654 - val_acc: 0.5797\n",
      "Epoch 186/200\n",
      "45/45 [==============================] - 8s 173ms/step - loss: 0.0976 - acc: 0.9796 - val_loss: 1.9119 - val_acc: 0.5688\n",
      "Epoch 187/200\n",
      "45/45 [==============================] - 8s 182ms/step - loss: 0.1150 - acc: 0.9690 - val_loss: 2.7164 - val_acc: 0.5297\n",
      "Epoch 188/200\n",
      "45/45 [==============================] - 8s 179ms/step - loss: 0.0910 - acc: 0.9803 - val_loss: 1.8924 - val_acc: 0.5844\n",
      "Epoch 189/200\n",
      "45/45 [==============================] - 8s 175ms/step - loss: 0.0833 - acc: 0.9812 - val_loss: 1.9319 - val_acc: 0.5656\n",
      "Epoch 190/200\n",
      "45/45 [==============================] - 8s 178ms/step - loss: 0.1117 - acc: 0.9708 - val_loss: 1.9705 - val_acc: 0.5656\n",
      "Epoch 191/200\n",
      "45/45 [==============================] - 8s 178ms/step - loss: 0.0792 - acc: 0.9847 - val_loss: 2.0925 - val_acc: 0.5531\n",
      "Epoch 192/200\n",
      "45/45 [==============================] - 8s 175ms/step - loss: 0.1442 - acc: 0.9648 - val_loss: 1.9714 - val_acc: 0.5578\n",
      "Epoch 193/200\n",
      "45/45 [==============================] - 8s 173ms/step - loss: 0.0747 - acc: 0.9873 - val_loss: 2.0113 - val_acc: 0.5625\n",
      "Epoch 194/200\n",
      "45/45 [==============================] - 8s 179ms/step - loss: 0.0678 - acc: 0.9868 - val_loss: 2.0627 - val_acc: 0.5484\n",
      "Epoch 195/200\n",
      "45/45 [==============================] - 8s 177ms/step - loss: 0.0721 - acc: 0.9824 - val_loss: 1.9263 - val_acc: 0.5891\n",
      "Epoch 196/200\n",
      "45/45 [==============================] - 8s 179ms/step - loss: 0.1210 - acc: 0.9606 - val_loss: 1.9215 - val_acc: 0.5828\n",
      "Epoch 197/200\n",
      "45/45 [==============================] - 8s 172ms/step - loss: 0.0706 - acc: 0.9857 - val_loss: 2.2414 - val_acc: 0.5156\n",
      "Epoch 198/200\n",
      "45/45 [==============================] - 8s 180ms/step - loss: 0.0809 - acc: 0.9778 - val_loss: 1.9579 - val_acc: 0.5672\n",
      "Epoch 199/200\n",
      "45/45 [==============================] - 8s 170ms/step - loss: 0.0658 - acc: 0.9866 - val_loss: 1.9251 - val_acc: 0.5875\n",
      "Epoch 200/200\n",
      "45/45 [==============================] - 8s 184ms/step - loss: 0.0636 - acc: 0.9880 - val_loss: 1.9732 - val_acc: 0.5734\n"
     ]
    },
    {
     "data": {
      "text/plain": [
       "<tensorflow.python.keras.callbacks.History at 0x22c079ff860>"
      ]
     },
     "execution_count": 11,
     "metadata": {},
     "output_type": "execute_result"
    }
   ],
   "source": [
    "model.fit_generator(x_train ,steps_per_epoch = 45,epochs=200, validation_data=x_test ,validation_steps = 20)"
   ]
  },
  {
   "cell_type": "code",
   "execution_count": 12,
   "metadata": {},
   "outputs": [],
   "source": [
    "model.save(\"flowers.h5\")"
   ]
  },
  {
   "cell_type": "code",
   "execution_count": 13,
   "metadata": {},
   "outputs": [],
   "source": [
    "from tensorflow.keras.models import load_model\n",
    "from tensorflow.keras.preprocessing import image\n",
    "import cv2\n",
    "import numpy as np"
   ]
  },
  {
   "cell_type": "code",
   "execution_count": 14,
   "metadata": {},
   "outputs": [],
   "source": [
    "index=[\"daisy\",\"dandelion\",\"rose\",\"sunflower\",\"tulip\"]"
   ]
  },
  {
   "cell_type": "code",
   "execution_count": 15,
   "metadata": {},
   "outputs": [
    {
     "name": "stdout",
     "output_type": "stream",
     "text": [
      "WARNING:tensorflow:From C:\\Users\\Badrinath\\Anaconda3\\lib\\site-packages\\tensorflow\\python\\ops\\init_ops.py:97: calling GlorotUniform.__init__ (from tensorflow.python.ops.init_ops) with dtype is deprecated and will be removed in a future version.\n",
      "Instructions for updating:\n",
      "Call initializer instance with the dtype argument instead of passing it to the constructor\n",
      "WARNING:tensorflow:From C:\\Users\\Badrinath\\Anaconda3\\lib\\site-packages\\tensorflow\\python\\ops\\init_ops.py:97: calling Zeros.__init__ (from tensorflow.python.ops.init_ops) with dtype is deprecated and will be removed in a future version.\n",
      "Instructions for updating:\n",
      "Call initializer instance with the dtype argument instead of passing it to the constructor\n"
     ]
    }
   ],
   "source": [
    "model=load_model(\"flowers.h5\")"
   ]
  },
  {
   "cell_type": "code",
   "execution_count": 17,
   "metadata": {},
   "outputs": [],
   "source": [
    "img=image.load_img(\"rose.jpg\",target_size=(64,64))"
   ]
  },
  {
   "cell_type": "code",
   "execution_count": 18,
   "metadata": {},
   "outputs": [],
   "source": [
    "x=image.img_to_array(img)"
   ]
  },
  {
   "cell_type": "code",
   "execution_count": 19,
   "metadata": {},
   "outputs": [
    {
     "data": {
      "text/plain": [
       "(64, 64, 3)"
      ]
     },
     "execution_count": 19,
     "metadata": {},
     "output_type": "execute_result"
    }
   ],
   "source": [
    "x.shape"
   ]
  },
  {
   "cell_type": "code",
   "execution_count": 20,
   "metadata": {},
   "outputs": [],
   "source": [
    "x=np.expand_dims(x,axis=0)"
   ]
  },
  {
   "cell_type": "code",
   "execution_count": null,
   "metadata": {},
   "outputs": [],
   "source": []
  }
 ],
 "metadata": {
  "kernelspec": {
   "display_name": "Python 3",
   "language": "python",
   "name": "python3"
  },
  "language_info": {
   "codemirror_mode": {
    "name": "ipython",
    "version": 3
   },
   "file_extension": ".py",
   "mimetype": "text/x-python",
   "name": "python",
   "nbconvert_exporter": "python",
   "pygments_lexer": "ipython3",
   "version": "3.7.3"
  }
 },
 "nbformat": 4,
 "nbformat_minor": 2
}
